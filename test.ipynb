{
 "cells": [
  {
   "cell_type": "code",
   "execution_count": 2,
   "metadata": {},
   "outputs": [],
   "source": [
    "import numpy as np"
   ]
  },
  {
   "cell_type": "code",
   "execution_count": 2,
   "metadata": {},
   "outputs": [
    {
     "name": "stdout",
     "output_type": "stream",
     "text": [
      "[[ 6.2  0. ]\n",
      " [50.   0. ]\n",
      " [80.   0. ]]\n",
      "(3, 2)\n",
      "50.0\n",
      "{'x': 6.2, 'y': 50.0}\n"
     ]
    }
   ],
   "source": [
    "Q_rand = np.array([[6.2,0],[50,0],[80,0]])\n",
    "print(Q_rand)\n",
    "print(Q_rand.shape)\n",
    "print(Q_rand[1][0])\n",
    "q_rand = {\"x\":Q_rand[0][0],\"y\":Q_rand[1][0]}\n",
    "print(q_rand)\n"
   ]
  },
  {
   "cell_type": "code",
   "execution_count": null,
   "metadata": {},
   "outputs": [],
   "source": [
    "np.array_equal(np.array([1,2,3]),[1,2,3])"
   ]
  },
  {
   "cell_type": "code",
   "execution_count": 1,
   "metadata": {},
   "outputs": [
    {
     "ename": "KeyboardInterrupt",
     "evalue": "",
     "output_type": "error",
     "traceback": [
      "\u001b[1;31m---------------------------------------------------------------------------\u001b[0m",
      "\u001b[1;31mKeyboardInterrupt\u001b[0m                         Traceback (most recent call last)",
      "Cell \u001b[1;32mIn[1], line 8\u001b[0m\n\u001b[0;32m      6\u001b[0m cv\u001b[39m.\u001b[39mimshow(\u001b[39m\"\u001b[39m\u001b[39mz\u001b[39m\u001b[39m\"\u001b[39m, mask)\n\u001b[0;32m      7\u001b[0m \u001b[39mwhile\u001b[39;00m \u001b[39mTrue\u001b[39;00m:\n\u001b[1;32m----> 8\u001b[0m     \u001b[39mif\u001b[39;00m cv\u001b[39m.\u001b[39;49mwaitKey(\u001b[39m1\u001b[39;49m) \u001b[39m==\u001b[39m \u001b[39mord\u001b[39m(\u001b[39m'\u001b[39m\u001b[39mq\u001b[39m\u001b[39m'\u001b[39m):\n\u001b[0;32m      9\u001b[0m         exit()\n",
      "\u001b[1;31mKeyboardInterrupt\u001b[0m: "
     ]
    }
   ],
   "source": [
    "import numpy as np\n",
    "import cv2 as cv\n",
    "\n",
    "mask = np.ones((500, 500,3), dtype=np.uint8)*255\n",
    "cv.circle(mask,(255,255),50,(0,0,0),-1)\n",
    "cv.imshow(\"z\", mask)\n",
    "while True:\n",
    "    if cv.waitKey(1) == ord('q'):\n",
    "        exit()\n",
    "\n"
   ]
  },
  {
   "cell_type": "code",
   "execution_count": null,
   "metadata": {},
   "outputs": [],
   "source": [
    "import cv2 as cv\n",
    "import numpy as np\n",
    "W = 400\n",
    "def my_ellipse(img, angle):\n",
    "    thickness = 2\n",
    "    line_type = 8\n",
    "    cv.ellipse(img,\n",
    "                (W // 2, W // 2),\n",
    "                (W // 4, W // 16),\n",
    "                angle,\n",
    "                0,\n",
    "                360,\n",
    "                (255, 0, 0),\n",
    "                thickness,\n",
    "                line_type)\n",
    "def my_filled_circle(img, center):\n",
    "    thickness = -1\n",
    "    line_type = 8\n",
    "    cv.circle(img,\n",
    "               center,\n",
    "               W // 32,\n",
    "               (0, 0, 255),\n",
    "               thickness,\n",
    "               line_type)\n",
    "def my_polygon(img):\n",
    "    line_type = 8\n",
    "    # Create some points\n",
    "    ppt = np.array([[W / 4, 7 * W / 8], [3 * W / 4, 7 * W / 8],\n",
    "                    [3 * W / 4, 13 * W / 16], [11 * W / 16, 13 * W / 16],\n",
    "                    [19 * W / 32, 3 * W / 8], [3 * W / 4, 3 * W / 8],\n",
    "                    [3 * W / 4, W / 8], [26 * W / 40, W / 8],\n",
    "                    [26 * W / 40, W / 4], [22 * W / 40, W / 4],\n",
    "                    [22 * W / 40, W / 8], [18 * W / 40, W / 8],\n",
    "                    [18 * W / 40, W / 4], [14 * W / 40, W / 4],\n",
    "                    [14 * W / 40, W / 8], [W / 4, W / 8],\n",
    "                    [W / 4, 3 * W / 8], [13 * W / 32, 3 * W / 8],\n",
    "                    [5 * W / 16, 13 * W / 16], [W / 4, 13 * W / 16]], np.int32)\n",
    "    ppt = ppt.reshape((-1, 1, 2))\n",
    "    cv.fillPoly(img, [ppt], (255, 255, 255), line_type)\n",
    "    # Only drawind the lines would be:\n",
    "    # cv.polylines(img, [ppt], True, (255, 0, 255), line_type)\n",
    "def my_line(img, start, end):\n",
    "    thickness = 2\n",
    "    line_type = 8\n",
    "    cv.line(img,\n",
    "             start,\n",
    "             end,\n",
    "             (0, 0, 0),\n",
    "             thickness,\n",
    "             line_type)\n",
    "atom_window = \"Drawing 1: Atom\"\n",
    "rook_window = \"Drawing 2: Rook\"\n",
    "# Create black empty images\n",
    "size = W, W, 3\n",
    "atom_image = np.zeros(size, dtype=np.uint8)\n",
    "rook_image = np.zeros(size, dtype=np.uint8)\n",
    "# 1.a. Creating ellipses\n",
    "my_ellipse(atom_image, 90)\n",
    "my_ellipse(atom_image, 0)\n",
    "my_ellipse(atom_image, 45)\n",
    "my_ellipse(atom_image, -45)\n",
    "# 1.b. Creating circles\n",
    "my_filled_circle(atom_image, (W // 2, W // 2))\n",
    "# 2. Draw a rook\n",
    "# ------------------\n",
    "# 2.a. Create a convex polygon\n",
    "my_polygon(rook_image)\n",
    "cv.rectangle(rook_image,\n",
    "              (0, 7 * W // 8),\n",
    "              (W, W),\n",
    "              (0, 255, 255),\n",
    "              -1,\n",
    "              8)\n",
    "#  2.c. Create a few lines\n",
    "my_line(rook_image, (0, 15 * W // 16), (W, 15 * W // 16))\n",
    "my_line(rook_image, (W // 4, 7 * W // 8), (W // 4, W))\n",
    "my_line(rook_image, (W // 2, 7 * W // 8), (W // 2, W))\n",
    "my_line(rook_image, (3 * W // 4, 7 * W // 8), (3 * W // 4, W))\n",
    "cv.imshow(atom_window, atom_image)\n",
    "cv.moveWindow(atom_window, 0, 200)\n",
    "cv.imshow(rook_window, rook_image)\n",
    "cv.moveWindow(rook_window, W, 200)\n",
    "# cv.waitKey(0)\n",
    "# cv.destroyAllWindows()"
   ]
  },
  {
   "cell_type": "code",
   "execution_count": 4,
   "metadata": {},
   "outputs": [
    {
     "ename": "",
     "evalue": "",
     "output_type": "error",
     "traceback": [
      "\u001b[1;31mThe Kernel crashed while executing code in the the current cell or a previous cell. Please review the code in the cell(s) to identify a possible cause of the failure. Click <a href='https://aka.ms/vscodeJupyterKernelCrash'>here</a> for more info. View Jupyter <a href='command:jupyter.viewOutput'>log</a> for further details."
     ]
    }
   ],
   "source": [
    "my_ellipse(atom_image, 10)\n",
    "cv.imshow(atom_window, atom_image)\n"
   ]
  },
  {
   "cell_type": "code",
   "execution_count": null,
   "metadata": {},
   "outputs": [],
   "source": []
  }
 ],
 "metadata": {
  "kernelspec": {
   "display_name": "env",
   "language": "python",
   "name": "python3"
  },
  "language_info": {
   "codemirror_mode": {
    "name": "ipython",
    "version": 3
   },
   "file_extension": ".py",
   "mimetype": "text/x-python",
   "name": "python",
   "nbconvert_exporter": "python",
   "pygments_lexer": "ipython3",
   "version": "3.10.9"
  },
  "orig_nbformat": 4,
  "vscode": {
   "interpreter": {
    "hash": "bb6990f748984ae7e24689946879c131700d984d0646b39d51b18e820884e096"
   }
  }
 },
 "nbformat": 4,
 "nbformat_minor": 2
}
